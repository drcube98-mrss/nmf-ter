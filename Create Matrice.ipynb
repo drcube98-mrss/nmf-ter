{
 "cells": [
  {
   "cell_type": "code",
   "execution_count": 115,
   "metadata": {},
   "outputs": [],
   "source": [
    "import glob\n",
    "import os\n",
    "import sys\n",
    "from math import sqrt\n",
    "from PIL import Image\n",
    "from resizeimage import resizeimage\n",
    "import numpy as np\n",
    "from sklearn.utils import shuffle\n",
    "from sklearn import preprocessing\n",
    "from skimage.color import rgb2xyz, xyz2rgb\n",
    "import matplotlib.pyplot as plt"
   ]
  },
  {
   "cell_type": "code",
   "execution_count": 39,
   "metadata": {},
   "outputs": [
    {
     "name": "stdout",
     "output_type": "stream",
     "text": [
      "25\n",
      "PeopleArt/resized/25/\n"
     ]
    }
   ],
   "source": [
    "size=25 # A CHANGER\n",
    "threshold = 130\n",
    "folder = \"PeopleArt/resized/\"+str(size)+\"/\"\n",
    "print(size)\n",
    "print(folder)"
   ]
  },
  {
   "cell_type": "code",
   "execution_count": 40,
   "metadata": {},
   "outputs": [
    {
     "name": "stdout",
     "output_type": "stream",
     "text": [
      "Step 1 - Resize ...\n"
     ]
    }
   ],
   "source": [
    "print(\"Step 1 - Resize ...\")\n",
    "\n",
    "if not os.path.exists(folder):\n",
    "    os.makedirs(folder)\n",
    "\n",
    "images = glob.glob(\"PeopleArt/JPEGImages/*/*\")\n",
    "\n",
    "i = 1\n",
    "for image in images:\n",
    "    label = image.split(\"/\")[2].lower()\n",
    "    with open(image, 'r+b') as f:\n",
    "        img = Image.open(f)\n",
    "        img = resizeimage.resize_cover(img, [size, size])\n",
    "        img.save(folder+label+\"_\"+str(i)+'.jpg', img.format)\n",
    "    i += 1"
   ]
  },
  {
   "cell_type": "code",
   "execution_count": 41,
   "metadata": {},
   "outputs": [
    {
     "name": "stdout",
     "output_type": "stream",
     "text": [
      "Step 2 - Convert to GreyScale ...\n"
     ]
    }
   ],
   "source": [
    "images = shuffle(glob.glob(\"PeopleArt/resized/\"+str(size)+\"/*\"))\n",
    "print(\"Step 2 - Convert to GreyScale ...\")\n",
    "images = shuffle(glob.glob(folder+\"*\"))\n",
    "labels = np.array([])\n",
    "X_data = np.array([])\n",
    "\n",
    "for image in images:    \n",
    "    labels = np.append(labels,image.split(\"/\")[3].split(\"_\")[0].lower())    \n",
    "    image = Image.open(image).convert('L')\n",
    "    arr = np.array(image)\n",
    "    arr = arr.reshape(1,size*size)    \n",
    "    if X_data.any() :\n",
    "        X_data = np.concatenate( (X_data, arr), axis=0  )\n",
    "    else:\n",
    "        X_data = arr\n",
    "\n",
    "\n",
    "le = preprocessing.LabelEncoder()\n",
    "le.fit(labels)\n",
    "num_labels = le.transform(labels)\n",
    "\n",
    "np.savetxt('matrice-greyscale-'+str(size)+'.csv', X_data, fmt='%3d', delimiter=',')\n",
    "np.savetxt('labels-'+str(size)+'.csv', num_labels, fmt='%3d', delimiter=',')\n",
    "np.savetxt('annotation-'+str(size)+'.csv', labels, fmt='%3s', delimiter=',')"
   ]
  },
  {
   "cell_type": "code",
   "execution_count": 42,
   "metadata": {},
   "outputs": [
    {
     "name": "stdout",
     "output_type": "stream",
     "text": [
      "Step 3 - Convert to binary ...\n",
      "('threshold : ', 130)\n"
     ]
    }
   ],
   "source": [
    "print(\"Step 3 - Convert to binary ...\")\n",
    "\n",
    "def binarize_array(numpy_array, threshold=200):\n",
    "    \"\"\"Binarize a numpy array.\"\"\"\n",
    "    for i in range(len(numpy_array)):\n",
    "        for j in range(len(numpy_array[0])):\n",
    "            if numpy_array[i][j] == True:\n",
    "                numpy_array[i][j] = 1\n",
    "            else:\n",
    "                numpy_array[i][j] = 0\n",
    "    return numpy_array\n",
    "\n",
    "print(\"threshold : \", threshold)\n",
    "images = shuffle(glob.glob(\"PeopleArt/resized/\"+str(size)+\"/*\"))\n",
    "X_data_bin = np.array([])\n",
    "for image in images:\n",
    "    image = Image.open(image).convert('1')\n",
    "    arr = binarize_array(np.array(image),threshold)\n",
    "    arr = arr.reshape(1,size*size)\n",
    "    if X_data_bin.any() :\n",
    "        X_data_bin = np.concatenate( (X_data_bin, arr), axis=0  )\n",
    "    else:\n",
    "        X_data_bin = arr\n",
    "\n",
    "np.savetxt('matrice-binary-'+str(size)+'.csv', X_data_bin, fmt='%3d', delimiter=',')"
   ]
  },
  {
   "cell_type": "code",
   "execution_count": 160,
   "metadata": {},
   "outputs": [
    {
     "name": "stdout",
     "output_type": "stream",
     "text": [
      "Step 4 - Convert to size format 25 ...\n"
     ]
    }
   ],
   "source": [
    "print(\"Step 4 - Convert to size format \"+str(size)+\" rgb to int...\")\n",
    "images = shuffle(glob.glob(folder+\"*\"))\n",
    "labels = np.array([])\n",
    "X_data = np.array([])\n",
    "\n",
    "for image in images:    \n",
    "    labels = np.append(labels,image.split(\"/\")[3].split(\"_\")[0].lower())    \n",
    "    image = Image.open(image).convert('RGB')\n",
    "    arr = np.array(image)\n",
    "    arr = arr.reshape(1,size*size,3)    \n",
    "    if X_data.any() :\n",
    "        X_data = np.concatenate( (X_data, arr), axis=0)\n",
    "    else:\n",
    "        X_data = arr\n",
    "\n",
    "rgb_to_int = X_data[:, :, 0] + X_data[:, :, 1]*256 + X_data[:, :, 2]*256*256        \n",
    "\n",
    "le = preprocessing.LabelEncoder()\n",
    "le.fit(labels)\n",
    "num_labels = le.transform(labels)\n",
    "np.savetxt('matrice-resize-'+str(size)+'.csv', rgb_to_int, fmt='%3d', delimiter=',')"
   ]
  },
  {
   "cell_type": "code",
   "execution_count": 170,
   "metadata": {},
   "outputs": [
    {
     "name": "stdout",
     "output_type": "stream",
     "text": [
      "Step 5 - Convert to size format 25 3-D RGB...\n"
     ]
    }
   ],
   "source": [
    "print(\"Step 5 - Convert to size format \"+str(size)+\" 3-D RGB...\")\n",
    "images = shuffle(glob.glob(folder+\"*\"))\n",
    "labels = np.array([])\n",
    "X_data = np.array([])\n",
    "\n",
    "for image in images:    \n",
    "    labels = np.append(labels,image.split(\"/\")[3].split(\"_\")[0].lower())    \n",
    "    image = Image.open(image).convert('RGB')\n",
    "    arr = np.array(image) \n",
    "    if X_data.any() :\n",
    "        X_data = np.concatenate((X_data, arr))\n",
    "    else:\n",
    "        X_data = arr\n",
    "    \n",
    "le = preprocessing.LabelEncoder()\n",
    "le.fit(labels)\n",
    "num_labels = le.transform(labels)\n",
    "img = Image.fromarray(X_data, 'RGB')\n",
    "img.save('matrice-original-'+str(size)+'.png')"
   ]
  },
  {
   "cell_type": "code",
   "execution_count": 121,
   "metadata": {},
   "outputs": [],
   "source": [
    "def display_matrix(X, row=None, size=16):\n",
    "    X_data = np.array([])\n",
    "    if row is None:\n",
    "        row = sqrt(len(X))\n",
    "    for x in X:\n",
    "        arr = x.reshape(size,size)\n",
    "        if X_data.any() :\n",
    "            X_data = np.concatenate( (X_data, arr), axis=1 )\n",
    "        else:\n",
    "            X_data = arr\n",
    "    n = np.array_split(X_data, row, axis=1)\n",
    "    X_data = np.concatenate(n, axis=1)\n",
    "    plt.figure(figsize=(25, 25))\n",
    "    plt.imshow(X_data)\n",
    "    plt.axis(\"off\")\n",
    "    plt.show()"
   ]
  },
  {
   "cell_type": "code",
   "execution_count": 168,
   "metadata": {},
   "outputs": [
    {
     "name": "stderr",
     "output_type": "stream",
     "text": [
      "/usr/local/lib/python2.7/dist-packages/ipykernel_launcher.py:1: UserWarning: loadtxt: Empty input file: \"<open file 'matrice-original-25.csv', mode 'rb' at 0x7fcf4b9b7f60>\"\n",
      "  \"\"\"Entry point for launching an IPython kernel.\n"
     ]
    },
    {
     "data": {
      "text/plain": [
       "array([], dtype=float64)"
      ]
     },
     "execution_count": 168,
     "metadata": {},
     "output_type": "execute_result"
    }
   ],
   "source": [
    "datas = (np.loadtxt(open(\"matrice-original-25.csv\", \"rb\"), delimiter=\",\")).T #Transpose la matrice\n",
    "datas"
   ]
  }
 ],
 "metadata": {
  "kernelspec": {
   "display_name": "Python 2",
   "language": "python",
   "name": "python2"
  },
  "language_info": {
   "codemirror_mode": {
    "name": "ipython",
    "version": 2
   },
   "file_extension": ".py",
   "mimetype": "text/x-python",
   "name": "python",
   "nbconvert_exporter": "python",
   "pygments_lexer": "ipython2",
   "version": "2.7.12"
  }
 },
 "nbformat": 4,
 "nbformat_minor": 2
}
