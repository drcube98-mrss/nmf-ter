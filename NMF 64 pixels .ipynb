{
 "cells": [
  {
   "cell_type": "code",
   "execution_count": 2,
   "metadata": {},
   "outputs": [],
   "source": [
    "import nimfa\n",
    "from math import sqrt\n",
    "from sklearn.cluster import KMeans\n",
    "from sklearn import metrics\n",
    "from scipy.spatial.distance import cdist\n",
    "import numpy as np\n",
    "from spherecluster import SphericalKMeans\n",
    "from sklearn.utils import shuffle\n",
    "import matplotlib.pyplot as plt\n",
    "import boto3\n",
    "import sys"
   ]
  },
  {
   "cell_type": "code",
   "execution_count": 3,
   "metadata": {},
   "outputs": [],
   "source": [
    "def display_estimate(summary, file):\n",
    "\trss = [summary[rank]['rss'] for rank in rank_cands]\n",
    "\tcoph = [summary[rank]['cophenetic'] for rank in rank_cands]\n",
    "\tdisp = [summary[rank]['dispersion'] for rank in rank_cands]\n",
    "\tspar = [summary[rank]['sparseness'] for rank in rank_cands]\n",
    "\tspar_w, spar_h = zip(*spar)\n",
    "\tevar = [summary[rank]['evar'] for rank in rank_cands]\n",
    "\n",
    "\tfig = plt.figure(figsize=(14, 10))\n",
    "\tplt.plot(rank_cands, rss, 'o-', label='RSS', linewidth=2)\n",
    "\tplt.plot(rank_cands, coph, 'o-', label='Cophenetic correlation', linewidth=2)\n",
    "\tplt.plot(rank_cands, disp,'o-', label='Dispersion', linewidth=2)\n",
    "\tplt.plot(rank_cands, spar_w, 'o-', label='Sparsity (Basis)', linewidth=2)\n",
    "\tplt.plot(rank_cands, spar_h, 'o-', label='Sparsity (Mixture)', linewidth=2)\n",
    "\tplt.plot(rank_cands, evar, 'o-', label='Explained variance', linewidth=2)\n",
    "\t\n",
    "\tplt.legend(loc='upper center', bbox_to_anchor=(0.5, -0.05), ncol=3, numpoints=1);\n",
    "\tplt.savefig(file, dpi=fig.dpi)"
   ]
  },
  {
   "cell_type": "code",
   "execution_count": 4,
   "metadata": {},
   "outputs": [],
   "source": [
    "path_file = \"matrice-greyscale-64.csv\"\n",
    "estimated_cluster = 128 #40 en temps normal\n",
    "estimation_nmf = range(125,131,1) #20,200,10"
   ]
  },
  {
   "cell_type": "code",
   "execution_count": 5,
   "metadata": {},
   "outputs": [
    {
     "name": "stdout",
     "output_type": "stream",
     "text": [
      "(4778, 4096)\n",
      "('Step 2 - Skeams with nb_cluster = ', 128)\n"
     ]
    },
    {
     "data": {
      "text/plain": [
       "SphericalKMeans(copy_x=True, init='k-means++', max_iter=300, n_clusters=128,\n",
       "        n_init=10, n_jobs=1, normalize=True, random_state=None, tol=0.0001,\n",
       "        verbose=0)"
      ]
     },
     "execution_count": 5,
     "metadata": {},
     "output_type": "execute_result"
    }
   ],
   "source": [
    "datas = np.loadtxt(open(path_file, \"rb\"), delimiter=\",\")\n",
    "datas = shuffle(datas)\n",
    "print(datas.shape)\n",
    "print(\"Step 2 - Skeams with nb_cluster = \", estimated_cluster)\n",
    "skm = SphericalKMeans(n_clusters=estimated_cluster)\n",
    "skm.fit(datas)"
   ]
  },
  {
   "cell_type": "code",
   "execution_count": 7,
   "metadata": {},
   "outputs": [],
   "source": [
    "_data_dimension, _num_bases = datas.shape\n",
    "W = np.random.random((_data_dimension, estimated_cluster))\n",
    "H = skm.cluster_centers_"
   ]
  },
  {
   "cell_type": "code",
   "execution_count": 8,
   "metadata": {},
   "outputs": [],
   "source": [
    "nmf = nimfa.Nmf(datas, seed=None, max_iter=250, H=H, W=W)\n",
    "nmf_fit = nmf()\n",
    "\n",
    "W = nmf_fit.basis()\n",
    "H = nmf_fit.coef()\n",
    "\n",
    "np.save(\"step3_W\", W)\n",
    "np.save(\"step3_H\", H)"
   ]
  },
  {
   "cell_type": "code",
   "execution_count": null,
   "metadata": {},
   "outputs": [],
   "source": [
    "sd = \"nndsvd\"\n",
    "rank_cands=estimation_nmf\n",
    "summary = nmf.estimate_rank(rank_range=rank_cands, n_run=1, what='all')\n",
    "display_estimate(summary, \"step3-\"+str(m[0])+\"-nndsvd.png\")"
   ]
  }
 ],
 "metadata": {
  "kernelspec": {
   "display_name": "Python 3",
   "language": "python",
   "name": "python3"
  },
  "language_info": {
   "codemirror_mode": {
    "name": "ipython",
    "version": 2
   },
   "file_extension": ".py",
   "mimetype": "text/x-python",
   "name": "python",
   "nbconvert_exporter": "python",
   "pygments_lexer": "ipython2",
   "version": "2.7.12"
  }
 },
 "nbformat": 4,
 "nbformat_minor": 2
}
