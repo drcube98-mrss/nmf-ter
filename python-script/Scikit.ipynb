{
 "cells": [
  {
   "cell_type": "code",
   "execution_count": 50,
   "metadata": {},
   "outputs": [],
   "source": [
    "import nimfa\n",
    "import pandas as pd\n",
    "from math import sqrt\n",
    "from sklearn.cluster import KMeans\n",
    "from sklearn import metrics\n",
    "from scipy.spatial.distance import cdist\n",
    "import numpy as np\n",
    "from spherecluster import SphericalKMeans\n",
    "from sklearn.utils import shuffle\n",
    "import matplotlib.pyplot as plt\n",
    "import matplotlib.axes as ax\n",
    "import boto3\n",
    "import sys"
   ]
  },
  {
   "cell_type": "code",
   "execution_count": 9,
   "metadata": {},
   "outputs": [
    {
     "name": "stderr",
     "output_type": "stream",
     "text": [
      "/usr/local/lib/python2.7/dist-packages/ipykernel_launcher.py:1: FutureWarning: from_csv is deprecated. Please use read_csv(...) instead. Note that some of the default arguments are different, so please refer to the documentation for from_csv when changing your function calls\n",
      "  \"\"\"Entry point for launching an IPython kernel.\n"
     ]
    }
   ],
   "source": [
    "datas = pd.DataFrame.from_csv(path=\"nmf-16-greyscale-47-57-mu-KmeansRandom/nmf-mu-47-KmeansRandom-ElapsedTime.csv\")"
   ]
  },
  {
   "cell_type": "code",
   "execution_count": 19,
   "metadata": {},
   "outputs": [
    {
     "data": {
      "text/plain": [
       "67.935"
      ]
     },
     "execution_count": 19,
     "metadata": {},
     "output_type": "execute_result"
    }
   ],
   "source": [
    "datas.loc[1,'x']"
   ]
  },
  {
   "cell_type": "code",
   "execution_count": 24,
   "metadata": {},
   "outputs": [
    {
     "name": "stderr",
     "output_type": "stream",
     "text": [
      "/usr/local/lib/python2.7/dist-packages/ipykernel_launcher.py:4: FutureWarning: from_csv is deprecated. Please use read_csv(...) instead. Note that some of the default arguments are different, so please refer to the documentation for from_csv when changing your function calls\n",
      "  after removing the cwd from sys.path.\n",
      "/usr/local/lib/python2.7/dist-packages/ipykernel_launcher.py:5: FutureWarning: from_csv is deprecated. Please use read_csv(...) instead. Note that some of the default arguments are different, so please refer to the documentation for from_csv when changing your function calls\n",
      "  \"\"\"\n"
     ]
    },
    {
     "data": {
      "text/plain": [
       "[20.671098932250302,\n",
       " 20.4591908638002,\n",
       " 20.4418249607603,\n",
       " 20.2046090419219,\n",
       " 20.049469878626002,\n",
       " 19.843668029340698,\n",
       " 19.772381625912,\n",
       " 19.6081149976877,\n",
       " 19.4734720472585,\n",
       " 19.2260006016048,\n",
       " 19.1433915564306]"
      ]
     },
     "execution_count": 24,
     "metadata": {},
     "output_type": "execute_result"
    }
   ],
   "source": [
    "tab1 = []\n",
    "tab2 = []\n",
    "for i in range(47,58,1):\n",
    "    datasRandomElapsedTime = pd.DataFrame.from_csv(path=\"nmf-16-greyscale-47-57-mu-KmeansRandom/nmf-mu-\"+str(i)+\"-KmeansRandom-ElapsedTime.csv\")\n",
    "    datasRMSD = pd.DataFrame.from_csv(path=\"nmf-16-greyscale-47-57-mu-KmeansRandom/nmf-mu-\"+str(i)+\"-KmeansRandom-RMSD.csv\")\n",
    "    tab1.append(datasRandomElapsedTime.loc[1,'x'])\n",
    "    tab2.append(datasRMSD.loc[1,'x'])"
   ]
  },
  {
   "cell_type": "code",
   "execution_count": 59,
   "metadata": {},
   "outputs": [
    {
     "data": {
      "image/png": "[encoded data removed]",
      "text/plain": [
       "<Figure size 432x288 with 1 Axes>"
      ]
     },
     "metadata": {},
     "output_type": "display_data"
    }
   ],
   "source": [
    "fig = pyplot.figure()\n",
    "ax = fig.add_subplot(111)\n",
    "ax.set_ylim(0,10)\n",
    "plt.plot(tab2,tab1)\n",
    "plt.xlabel('RMSD')\n",
    "plt.ylabel('Elapsed Time')\n",
    "plt.title('Ratio Between RMSD and Elapsed Time')    \n",
    "for i,j in zip(tab2,tab1):\n",
    "    ax.annotate(str(j),xy=(i,j))\n",
    "pyplot.show()\n"
   ]
  },
  {
   "cell_type": "code",
   "execution_count": 60,
   "metadata": {},
   "outputs": [
    {
     "data": {
      "image/png": "[encoded data removed]",
      "text/plain": [
       "<Figure size 432x288 with 1 Axes>"
      ]
     },
     "metadata": {},
     "output_type": "display_data"
    }
   ],
   "source": [
    "x=[1,2,3]\n",
    "y=[9,8,7]\n",
    "\n",
    "pyplot.plot(x,y)\n",
    "for a,b in zip(x, y): \n",
    "    pyplot.text(a, b, str(b))\n",
    "pyplot.show()"
   ]
  },
  {
   "cell_type": "code",
   "execution_count": 32,
   "metadata": {},
   "outputs": [
    {
     "data": {
      "text/plain": [
       "[65.346,\n",
       " 66.583,\n",
       " 68.565,\n",
       " 67.687,\n",
       " 69.729,\n",
       " 70.045,\n",
       " 66.531,\n",
       " 67.482,\n",
       " 68.146,\n",
       " 67.411,\n",
       " 67.935]"
      ]
     },
     "execution_count": 32,
     "metadata": {},
     "output_type": "execute_result"
    }
   ],
   "source": []
  }
 ],
 "metadata": {
  "kernelspec": {
   "display_name": "Python 2",
   "language": "python",
   "name": "python2"
  },
  "language_info": {
   "codemirror_mode": {
    "name": "ipython",
    "version": 2
   },
   "file_extension": ".py",
   "mimetype": "text/x-python",
   "name": "python",
   "nbconvert_exporter": "python",
   "pygments_lexer": "ipython2",
   "version": "2.7.12"
  }
 },
 "nbformat": 4,
 "nbformat_minor": 2
}
