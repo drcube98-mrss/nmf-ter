{
 "cells": [
  {
   "cell_type": "code",
   "execution_count": 2,
   "metadata": {},
   "outputs": [],
   "source": [
    "from sklearn.datasets import fetch_mldata\n",
    "import matplotlib.pyplot as plt\n",
    "import numpy as np\n",
    "from math import sqrt, fabs\n",
    "from sklearn.decomposition import NMF\n",
    "from sklearn.utils import shuffle\n",
    "import scipy.sparse\n",
    "from numpy.linalg import norm\n",
    "from time import time\n",
    "from sys import stdout"
   ]
  },
  {
   "cell_type": "markdown",
   "metadata": {},
   "source": [
    "functions :"
   ]
  },
  {
   "cell_type": "code",
   "execution_count": 3,
   "metadata": {},
   "outputs": [],
   "source": [
    "def display_matrix(X, row=None, size=28):\n",
    "    X_data = np.array([])\n",
    "    if row is None:\n",
    "        row = sqrt(len(X))\n",
    "    for x in X:\n",
    "        arr = x.reshape(size,size)\n",
    "        if X_data.any() :\n",
    "            X_data = np.concatenate( (X_data, arr), axis=1  )\n",
    "        else:\n",
    "            X_data = arr\n",
    "    n = np.array_split(X_data, row, axis=1)\n",
    "    X_data = np.concatenate(n, axis=0)\n",
    "    plt.imshow(X_data, interpolation=\"nearest\", cmap=plt.get_cmap('gray'))\n",
    "    plt.axis(\"off\")\n",
    "    plt.show()"
   ]
  },
  {
   "cell_type": "code",
   "execution_count": 4,
   "metadata": {},
   "outputs": [],
   "source": [
    "def relative_error(original,facto):\n",
    "    return np.sqrt(np.sum(np.square(original - facto))) /  np.sqrt ( np.sum(original) )"
   ]
  },
  {
   "cell_type": "code",
   "execution_count": 5,
   "metadata": {},
   "outputs": [],
   "source": [
    "def frobenius(original,facto):\n",
    "    return np.sqrt(np.sum(np.square(original - facto))) "
   ]
  },
  {
   "cell_type": "markdown",
   "metadata": {},
   "source": [
    "#### Load data MNIST "
   ]
  },
  {
   "cell_type": "code",
   "execution_count": 6,
   "metadata": {},
   "outputs": [
    {
     "data": {
      "image/png": "[encoded data removed]",
      "text/plain": [
       "<Figure size 432x288 with 1 Axes>"
      ]
     },
     "metadata": {},
     "output_type": "display_data"
    }
   ],
   "source": [
    "mnist = fetch_mldata('MNIST original')\n",
    "X, y = mnist[\"data\"], mnist[\"target\"]\n",
    "X_mnist, y_mnist = shuffle(X, y)\n",
    "display_matrix(X_mnist[0:25])"
   ]
  },
  {
   "cell_type": "markdown",
   "metadata": {},
   "source": [
    "#### Load face database"
   ]
  },
  {
   "cell_type": "code",
   "execution_count": 18,
   "metadata": {},
   "outputs": [],
   "source": [
    "faces = np.loadtxt(open(\"matrice-greyscale-16.csv\", \"rb\"), delimiter = \",\")"
   ]
  },
  {
   "cell_type": "code",
   "execution_count": 19,
   "metadata": {},
   "outputs": [
    {
     "ename": "ValueError",
     "evalue": "all the input array dimensions except for the concatenation axis must match exactly",
     "output_type": "error",
     "traceback": [
      "\u001b[0;31m---------------------------------------------------------------------------\u001b[0m",
      "\u001b[0;31mValueError\u001b[0m                                Traceback (most recent call last)",
      "\u001b[0;32m<ipython-input-19-7d79c0107e7f>\u001b[0m in \u001b[0;36m<module>\u001b[0;34m()\u001b[0m\n\u001b[0;32m----> 1\u001b[0;31m \u001b[0mdisplay_matrix\u001b[0m\u001b[0;34m(\u001b[0m\u001b[0mfaces\u001b[0m\u001b[0;34m,\u001b[0m\u001b[0msize\u001b[0m\u001b[0;34m=\u001b[0m\u001b[0;36m16\u001b[0m\u001b[0;34m)\u001b[0m\u001b[0;34m\u001b[0m\u001b[0m\n\u001b[0m",
      "\u001b[0;32m<ipython-input-3-7618cfbaf4c3>\u001b[0m in \u001b[0;36mdisplay_matrix\u001b[0;34m(X, row, size)\u001b[0m\n\u001b[1;32m     10\u001b[0m             \u001b[0mX_data\u001b[0m \u001b[0;34m=\u001b[0m \u001b[0marr\u001b[0m\u001b[0;34m\u001b[0m\u001b[0m\n\u001b[1;32m     11\u001b[0m     \u001b[0mn\u001b[0m \u001b[0;34m=\u001b[0m \u001b[0mnp\u001b[0m\u001b[0;34m.\u001b[0m\u001b[0marray_split\u001b[0m\u001b[0;34m(\u001b[0m\u001b[0mX_data\u001b[0m\u001b[0;34m,\u001b[0m \u001b[0mrow\u001b[0m\u001b[0;34m,\u001b[0m \u001b[0maxis\u001b[0m\u001b[0;34m=\u001b[0m\u001b[0;36m1\u001b[0m\u001b[0;34m)\u001b[0m\u001b[0;34m\u001b[0m\u001b[0m\n\u001b[0;32m---> 12\u001b[0;31m     \u001b[0mX_data\u001b[0m \u001b[0;34m=\u001b[0m \u001b[0mnp\u001b[0m\u001b[0;34m.\u001b[0m\u001b[0mconcatenate\u001b[0m\u001b[0;34m(\u001b[0m\u001b[0mn\u001b[0m\u001b[0;34m,\u001b[0m \u001b[0maxis\u001b[0m\u001b[0;34m=\u001b[0m\u001b[0;36m0\u001b[0m\u001b[0;34m)\u001b[0m\u001b[0;34m\u001b[0m\u001b[0m\n\u001b[0m\u001b[1;32m     13\u001b[0m     \u001b[0mplt\u001b[0m\u001b[0;34m.\u001b[0m\u001b[0mimshow\u001b[0m\u001b[0;34m(\u001b[0m\u001b[0mX_data\u001b[0m\u001b[0;34m,\u001b[0m \u001b[0minterpolation\u001b[0m\u001b[0;34m=\u001b[0m\u001b[0;34m\"nearest\"\u001b[0m\u001b[0;34m,\u001b[0m \u001b[0mcmap\u001b[0m\u001b[0;34m=\u001b[0m\u001b[0mplt\u001b[0m\u001b[0;34m.\u001b[0m\u001b[0mget_cmap\u001b[0m\u001b[0;34m(\u001b[0m\u001b[0;34m'gray'\u001b[0m\u001b[0;34m)\u001b[0m\u001b[0;34m)\u001b[0m\u001b[0;34m\u001b[0m\u001b[0m\n\u001b[1;32m     14\u001b[0m     \u001b[0mplt\u001b[0m\u001b[0;34m.\u001b[0m\u001b[0maxis\u001b[0m\u001b[0;34m(\u001b[0m\u001b[0;34m\"off\"\u001b[0m\u001b[0;34m)\u001b[0m\u001b[0;34m\u001b[0m\u001b[0m\n",
      "\u001b[0;31mValueError\u001b[0m: all the input array dimensions except for the concatenation axis must match exactly"
     ]
    }
   ],
   "source": [
    "display_matrix(faces,size=16)"
   ]
  },
  {
   "cell_type": "markdown",
   "metadata": {},
   "source": [
    "### NMF with classicial multiplicative update rule"
   ]
  },
  {
   "cell_type": "code",
   "execution_count": 18,
   "metadata": {
    "collapsed": true
   },
   "outputs": [],
   "source": [
    "class NMF():\n",
    "    # some small value\n",
    "    _EPS = 10**-8\n",
    "\n",
    "    def __init__(self, data, num_bases=4):\n",
    "\n",
    "        # set variables\n",
    "        self.data = data\n",
    "        self._num_bases = num_bases\n",
    "\n",
    "        # initialize H and W to random values\n",
    "        (self._data_dimension, self._num_samples) = self.data.shape\n",
    "\n",
    "\n",
    "    def frobenius_norm(self):\n",
    "        # check if W and H exist\n",
    "        if hasattr(self,'H') and hasattr(self,'W') and not scipy.sparse.issparse(self.data):\n",
    "            err = np.sqrt( np.sum((self.data[:,:] - np.dot(self.W, self.H))**2 ))\n",
    "        else:\n",
    "            err = -123456\n",
    "\n",
    "        return err\n",
    "\n",
    "    def init_w(self):\n",
    "        self.W = np.random.random((self._data_dimension, self._num_bases))\n",
    "\n",
    "    def init_h(self):\n",
    "        self.H = np.random.random((self._num_bases, self._num_samples))\n",
    "\n",
    "    def update_h(self):\n",
    "            # pre init H1, and H2 (necessary for storing matrices on disk)\n",
    "            H2 = np.dot(np.dot(self.W.T, self.W), self.H) + 10**-9\n",
    "            self.H *= np.dot(self.W.T, self.data[:,:])\n",
    "            self.H /= H2\n",
    "\n",
    "    def update_w(self):\n",
    "            # pre init W1, and W2 (necessary for storing matrices on disk)\n",
    "            W2 = np.dot(np.dot(self.W, self.H), self.H.T) + 10**-9\n",
    "            self.W *= np.dot(self.data[:,:], self.H.T)\n",
    "            self.W /= W2\n",
    "\n",
    "    def converged(self, i):\n",
    "        derr = np.abs(self.ferr[i] - self.ferr[i-1])/self._num_samples\n",
    "        if derr < self._EPS:\n",
    "            return True\n",
    "        else:\n",
    "            return False\n",
    "\n",
    "    def factorize(self, niter=1, show_progress=False,\n",
    "                  compute_w=True, compute_h=True, compute_err=True):\n",
    " \n",
    "        # create W and H if they don't already exist\n",
    "        # -> any custom initialization to W,H should be done before\n",
    "        if not hasattr(self,'W'):\n",
    "               self.init_w()\n",
    "\n",
    "        if not hasattr(self,'H'):\n",
    "                self.init_h()\n",
    "\n",
    "        if compute_err:\n",
    "            self.ferr = np.zeros(niter)\n",
    "\n",
    "        for i in range(niter):\n",
    "            if compute_w:\n",
    "                self.update_w()\n",
    "\n",
    "            if compute_h:\n",
    "                self.update_h()\n",
    "\n",
    "            if compute_err:\n",
    "                self.ferr[i] = self.frobenius_norm()\n",
    "                #print('Iteration ' + str(i+1) + '/' + str(niter) +\n",
    "                #' FN:' + str(self.ferr[i]))\n",
    "            #else:\n",
    "                #print('Iteration ' + str(i+1) + '/' + str(niter))\n",
    "\n",
    "\n",
    "            # check if the err is not changing anymore\n",
    "            if i > 1 and compute_err:\n",
    "                if self.converged(i):\n",
    "                    # adjust the error measure\n",
    "                    self.ferr = self.ferr[:i]\n",
    "                    break"
   ]
  },
  {
   "cell_type": "markdown",
   "metadata": {},
   "source": [
    "#### comparaison"
   ]
  },
  {
   "cell_type": "code",
   "execution_count": 19,
   "metadata": {},
   "outputs": [
    {
     "ename": "NameError",
     "evalue": "name 'faces' is not defined",
     "output_type": "error",
     "traceback": [
      "\u001b[0;31m---------------------------------------------------------------------------\u001b[0m",
      "\u001b[0;31mNameError\u001b[0m                                 Traceback (most recent call last)",
      "\u001b[0;32m<ipython-input-19-fddd0f2f6037>\u001b[0m in \u001b[0;36m<module>\u001b[0;34m()\u001b[0m\n\u001b[1;32m      3\u001b[0m \u001b[0mi\u001b[0m \u001b[0;34m=\u001b[0m \u001b[0;36m10\u001b[0m\u001b[0;34m\u001b[0m\u001b[0m\n\u001b[1;32m      4\u001b[0m \u001b[0;32mfor\u001b[0m \u001b[0mx\u001b[0m \u001b[0;32min\u001b[0m \u001b[0mrange\u001b[0m\u001b[0;34m(\u001b[0m\u001b[0;36m0\u001b[0m\u001b[0;34m,\u001b[0m\u001b[0;36m49\u001b[0m\u001b[0;34m)\u001b[0m\u001b[0;34m:\u001b[0m\u001b[0;34m\u001b[0m\u001b[0m\n\u001b[0;32m----> 5\u001b[0;31m     \u001b[0mnmf_mdl\u001b[0m \u001b[0;34m=\u001b[0m \u001b[0mNMF\u001b[0m\u001b[0;34m(\u001b[0m\u001b[0mfaces\u001b[0m\u001b[0;34m,\u001b[0m \u001b[0mnum_bases\u001b[0m\u001b[0;34m=\u001b[0m\u001b[0;36m5\u001b[0m\u001b[0;34m)\u001b[0m\u001b[0;34m\u001b[0m\u001b[0m\n\u001b[0m\u001b[1;32m      6\u001b[0m     \u001b[0mnmf_mdl\u001b[0m\u001b[0;34m.\u001b[0m\u001b[0mfactorize\u001b[0m\u001b[0;34m(\u001b[0m\u001b[0mi\u001b[0m\u001b[0;34m)\u001b[0m\u001b[0;34m\u001b[0m\u001b[0m\n\u001b[1;32m      7\u001b[0m     \u001b[0mre\u001b[0m \u001b[0;34m=\u001b[0m \u001b[0mnmf_mdl\u001b[0m\u001b[0;34m.\u001b[0m\u001b[0mW\u001b[0m\u001b[0;34m.\u001b[0m\u001b[0mdot\u001b[0m\u001b[0;34m(\u001b[0m\u001b[0mnmf_mdl\u001b[0m\u001b[0;34m.\u001b[0m\u001b[0mH\u001b[0m\u001b[0;34m)\u001b[0m\u001b[0;34m\u001b[0m\u001b[0m\n",
      "\u001b[0;31mNameError\u001b[0m: name 'faces' is not defined"
     ]
    }
   ],
   "source": [
    "it = []\n",
    "err = []\n",
    "i = 10\n",
    "for x in range(0,49):\n",
    "    nmf_mdl = NMF(faces, num_bases=5)\n",
    "    nmf_mdl.factorize(i)\n",
    "    re = nmf_mdl.W.dot(nmf_mdl.H)\n",
    "    \n",
    "    it.append(i)\n",
    "    err.append( frobenius(faces,re) )\n",
    "    i = i + 20"
   ]
  },
  {
   "cell_type": "code",
   "execution_count": 20,
   "metadata": {},
   "outputs": [
    {
     "ename": "NameError",
     "evalue": "name 'faces' is not defined",
     "output_type": "error",
     "traceback": [
      "\u001b[0;31m---------------------------------------------------------------------------\u001b[0m",
      "\u001b[0;31mNameError\u001b[0m                                 Traceback (most recent call last)",
      "\u001b[0;32m<ipython-input-20-fa22fe9daa71>\u001b[0m in \u001b[0;36m<module>\u001b[0;34m()\u001b[0m\n\u001b[1;32m      3\u001b[0m \u001b[0mi2\u001b[0m \u001b[0;34m=\u001b[0m \u001b[0;36m10\u001b[0m\u001b[0;34m\u001b[0m\u001b[0m\n\u001b[1;32m      4\u001b[0m \u001b[0;32mfor\u001b[0m \u001b[0mx2\u001b[0m \u001b[0;32min\u001b[0m \u001b[0mrange\u001b[0m\u001b[0;34m(\u001b[0m\u001b[0;36m0\u001b[0m\u001b[0;34m,\u001b[0m\u001b[0;36m49\u001b[0m\u001b[0;34m)\u001b[0m\u001b[0;34m:\u001b[0m\u001b[0;34m\u001b[0m\u001b[0m\n\u001b[0;32m----> 5\u001b[0;31m     \u001b[0mnmf_mdl2\u001b[0m \u001b[0;34m=\u001b[0m \u001b[0mNMF\u001b[0m\u001b[0;34m(\u001b[0m\u001b[0mfaces\u001b[0m\u001b[0;34m,\u001b[0m \u001b[0mnum_bases\u001b[0m\u001b[0;34m=\u001b[0m\u001b[0;36m8\u001b[0m\u001b[0;34m)\u001b[0m\u001b[0;34m\u001b[0m\u001b[0m\n\u001b[0m\u001b[1;32m      6\u001b[0m     \u001b[0mnmf_mdl2\u001b[0m\u001b[0;34m.\u001b[0m\u001b[0mfactorize\u001b[0m\u001b[0;34m(\u001b[0m\u001b[0mi2\u001b[0m\u001b[0;34m)\u001b[0m\u001b[0;34m\u001b[0m\u001b[0m\n\u001b[1;32m      7\u001b[0m     \u001b[0mre2\u001b[0m \u001b[0;34m=\u001b[0m \u001b[0mnmf_mdl2\u001b[0m\u001b[0;34m.\u001b[0m\u001b[0mW\u001b[0m\u001b[0;34m.\u001b[0m\u001b[0mdot\u001b[0m\u001b[0;34m(\u001b[0m\u001b[0mnmf_mdl2\u001b[0m\u001b[0;34m.\u001b[0m\u001b[0mH\u001b[0m\u001b[0;34m)\u001b[0m\u001b[0;34m\u001b[0m\u001b[0m\n",
      "\u001b[0;31mNameError\u001b[0m: name 'faces' is not defined"
     ]
    }
   ],
   "source": [
    "it2 = []\n",
    "err2 = []\n",
    "i2 = 10\n",
    "for x2 in range(0,49):\n",
    "    nmf_mdl2 = NMF(faces, num_bases=8)\n",
    "    nmf_mdl2.factorize(i2)\n",
    "    re2 = nmf_mdl2.W.dot(nmf_mdl2.H)\n",
    "    \n",
    "    it2.append(i2)\n",
    "    err2.append( frobenius(faces,re2) )\n",
    "    i2 = i2 + 20"
   ]
  },
  {
   "cell_type": "code",
   "execution_count": 21,
   "metadata": {},
   "outputs": [
    {
     "ename": "NameError",
     "evalue": "name 'faces' is not defined",
     "output_type": "error",
     "traceback": [
      "\u001b[0;31m---------------------------------------------------------------------------\u001b[0m",
      "\u001b[0;31mNameError\u001b[0m                                 Traceback (most recent call last)",
      "\u001b[0;32m<ipython-input-21-57e8af601507>\u001b[0m in \u001b[0;36m<module>\u001b[0;34m()\u001b[0m\n\u001b[1;32m      3\u001b[0m \u001b[0mi3\u001b[0m \u001b[0;34m=\u001b[0m \u001b[0;36m10\u001b[0m\u001b[0;34m\u001b[0m\u001b[0m\n\u001b[1;32m      4\u001b[0m \u001b[0;32mfor\u001b[0m \u001b[0mx3\u001b[0m \u001b[0;32min\u001b[0m \u001b[0mrange\u001b[0m\u001b[0;34m(\u001b[0m\u001b[0;36m0\u001b[0m\u001b[0;34m,\u001b[0m\u001b[0;36m39\u001b[0m\u001b[0;34m)\u001b[0m\u001b[0;34m:\u001b[0m\u001b[0;34m\u001b[0m\u001b[0m\n\u001b[0;32m----> 5\u001b[0;31m     \u001b[0mnmf_mdl3\u001b[0m \u001b[0;34m=\u001b[0m \u001b[0mNMF\u001b[0m\u001b[0;34m(\u001b[0m\u001b[0mfaces\u001b[0m\u001b[0;34m,\u001b[0m \u001b[0mnum_bases\u001b[0m\u001b[0;34m=\u001b[0m\u001b[0;36m12\u001b[0m\u001b[0;34m)\u001b[0m\u001b[0;34m\u001b[0m\u001b[0m\n\u001b[0m\u001b[1;32m      6\u001b[0m     \u001b[0mnmf_mdl3\u001b[0m\u001b[0;34m.\u001b[0m\u001b[0mfactorize\u001b[0m\u001b[0;34m(\u001b[0m\u001b[0mi3\u001b[0m\u001b[0;34m)\u001b[0m\u001b[0;34m\u001b[0m\u001b[0m\n\u001b[1;32m      7\u001b[0m     \u001b[0mre3\u001b[0m \u001b[0;34m=\u001b[0m \u001b[0mnmf_mdl3\u001b[0m\u001b[0;34m.\u001b[0m\u001b[0mW\u001b[0m\u001b[0;34m.\u001b[0m\u001b[0mdot\u001b[0m\u001b[0;34m(\u001b[0m\u001b[0mnmf_mdl3\u001b[0m\u001b[0;34m.\u001b[0m\u001b[0mH\u001b[0m\u001b[0;34m)\u001b[0m\u001b[0;34m\u001b[0m\u001b[0m\n",
      "\u001b[0;31mNameError\u001b[0m: name 'faces' is not defined"
     ]
    }
   ],
   "source": [
    "it3 = []\n",
    "err3 = []\n",
    "i3 = 10\n",
    "for x3 in range(0,39):\n",
    "    nmf_mdl3 = NMF(faces, num_bases=12)\n",
    "    nmf_mdl3.factorize(i3)\n",
    "    re3 = nmf_mdl3.W.dot(nmf_mdl3.H)\n",
    "    \n",
    "    it3.append(i3)\n",
    "    err3.append( frobenius(faces,re3) )\n",
    "    i3 = i3 + 20"
   ]
  },
  {
   "cell_type": "code",
   "execution_count": 22,
   "metadata": {},
   "outputs": [
    {
     "ename": "NameError",
     "evalue": "name 're3' is not defined",
     "output_type": "error",
     "traceback": [
      "\u001b[0;31m---------------------------------------------------------------------------\u001b[0m",
      "\u001b[0;31mNameError\u001b[0m                                 Traceback (most recent call last)",
      "\u001b[0;32m<ipython-input-22-12b1cd3e8aa6>\u001b[0m in \u001b[0;36m<module>\u001b[0;34m()\u001b[0m\n\u001b[0;32m----> 1\u001b[0;31m \u001b[0mdisplay_matrix\u001b[0m\u001b[0;34m(\u001b[0m\u001b[0mre3\u001b[0m\u001b[0;34m,\u001b[0m\u001b[0msize\u001b[0m\u001b[0;34m=\u001b[0m\u001b[0;36m128\u001b[0m\u001b[0;34m)\u001b[0m\u001b[0;34m\u001b[0m\u001b[0m\n\u001b[0m",
      "\u001b[0;31mNameError\u001b[0m: name 're3' is not defined"
     ]
    }
   ],
   "source": [
    "display_matrix(re3,size=128)"
   ]
  },
  {
   "cell_type": "code",
   "execution_count": 23,
   "metadata": {},
   "outputs": [
    {
     "data": {
      "image/png": "[encoded data removed]",
      "text/plain": [
       "<matplotlib.figure.Figure at 0x7fa90979f588>"
      ]
     },
     "metadata": {},
     "output_type": "display_data"
    },
    {
     "data": {
      "text/plain": [
       "<matplotlib.figure.Figure at 0x7fa9097a4400>"
      ]
     },
     "metadata": {},
     "output_type": "display_data"
    }
   ],
   "source": [
    "plt.plot(it, err, label='k = 5')\n",
    "plt.plot(it2, err2, label='k = 8')\n",
    "plt.plot(it3, err3, label='k = 12')\n",
    "plt.legend(loc='upper right')\n",
    "plt.xlabel('iterations')\n",
    "plt.ylabel('error')\n",
    "plt.figure(figsize=(50,50))\n",
    "plt.show()"
   ]
  },
  {
   "cell_type": "code",
   "execution_count": null,
   "metadata": {
    "collapsed": true
   },
   "outputs": [],
   "source": []
  },
  {
   "cell_type": "markdown",
   "metadata": {},
   "source": [
    "## NMF alternative non-negative least squares using projected gradients"
   ]
  },
  {
   "cell_type": "code",
   "execution_count": 27,
   "metadata": {
    "collapsed": true
   },
   "outputs": [],
   "source": [
    "def nmf(V,Winit,Hinit,tol,maxiter,timelimit=60000):\n",
    "\n",
    " W = Winit; H = Hinit; initt = time();\n",
    "\n",
    " gradW = np.dot(W, np.dot(H, np.transpose(H))) - np.dot(V, np.transpose(H))\n",
    " gradH = np.dot(np.dot(np.transpose(W), W), H) - np.dot(np.transpose(W), V)\n",
    " initgrad = norm(np.r_[gradW, np.transpose(gradH)])\n",
    " #print('Init gradient norm '+ initgrad)\n",
    " tolW = max(0.001,tol)*initgrad\n",
    " tolH = tolW\n",
    "\n",
    " for iter in range(1,maxiter):\n",
    "  # stopping condition\n",
    "  projnorm = norm(np.r_[gradW[np.logical_or(gradW<0, W>0)],\n",
    "                                 gradH[np.logical_or(gradH<0, H>0)]])\n",
    "  #if projnorm < tol*initgrad or time() - initt > timelimit: break\n",
    "  if projnorm < tol*initgrad : break\n",
    "  \n",
    "  (W, gradW, iterW) = nlssubprob(np.transpose(V),np.transpose(H),np.transpose(W),tolW,1000)\n",
    "  W = np.transpose(W)\n",
    "  gradW = np.transpose(gradW)\n",
    "  \n",
    "  if iterW==1: tolW = 0.1 * tolW\n",
    "\n",
    "  (H,gradH,iterH) = nlssubprob(V,W,H,tolH,1000)\n",
    "  if iterH==1: tolH = 0.1 * tolH\n",
    "\n",
    "  #if iter % 10 == 0: stdout.write('.')\n",
    "\n",
    " #print('\\nIter = '+str(iter)+' Final proj-grad norm '+str(projnorm))\n",
    " return (W,H)\n",
    "\n",
    "def nlssubprob(V,W,Hinit,tol,maxiter):\n",
    " \n",
    " H = Hinit\n",
    " WtV = np.dot(W.T, V)\n",
    " WtW = np.dot(W.T, W) \n",
    "\n",
    " alpha = 1; beta = 0.1;\n",
    " for iter in range(1, maxiter):  \n",
    "  grad = np.subtract(np.dot(WtW, H),WtV)\n",
    "  projgrad = norm(grad[np.logical_or(grad < 0, H >0)])\n",
    "  if projgrad < tol: break\n",
    "\n",
    "  # search step size \n",
    "  for inner_iter in range(1,20):\n",
    "   Hn = H - alpha*grad\n",
    "   Hn = np.where(Hn > 0, Hn, 0)\n",
    "   d = Hn-H\n",
    "   gradd = np.sum(grad * d)\n",
    "   dQd = np.sum(np.dot(WtW,d) * d)\n",
    "   suff_decr = 0.99*gradd + 0.5*dQd < 0;\n",
    "   if inner_iter == 1:\n",
    "    decr_alpha = not suff_decr; Hp = H;\n",
    "   if decr_alpha: \n",
    "    if suff_decr:\n",
    "     H = Hn; break;\n",
    "    else:\n",
    "     alpha = alpha * beta;\n",
    "   else:\n",
    "      if not suff_decr or (Hp == Hn).all():\n",
    "       H = Hp; break;\n",
    "      else:\n",
    "       alpha = alpha/beta; Hp = Hn;\n",
    "\n",
    "  if iter == maxiter:\n",
    "   print(\"Max iter in nlssubprob\")\n",
    " return (H, grad, iter)"
   ]
  },
  {
   "cell_type": "code",
   "execution_count": 28,
   "metadata": {},
   "outputs": [],
   "source": [
    "v = X_mnist[0:25]\n",
    "_num_bases = 4\n",
    "(_data_dimension, _num_samples) = v.shape\n",
    "W = np.random.random((_data_dimension, _num_bases))\n",
    "H = np.random.random((_num_bases, _num_samples))\n",
    "\n",
    "(wo,ho) = nmf(v, W, H, 0.0001, 600)"
   ]
  },
  {
   "cell_type": "code",
   "execution_count": 29,
   "metadata": {},
   "outputs": [
    {
     "ename": "ValueError",
     "evalue": "cannot reshape array of size 784 into shape (128,128)",
     "output_type": "error",
     "traceback": [
      "\u001b[0;31m---------------------------------------------------------------------------\u001b[0m",
      "\u001b[0;31mValueError\u001b[0m                                Traceback (most recent call last)",
      "\u001b[0;32m<ipython-input-29-604719afdffb>\u001b[0m in \u001b[0;36m<module>\u001b[0;34m()\u001b[0m\n\u001b[0;32m----> 1\u001b[0;31m \u001b[0mdisplay_matrix\u001b[0m\u001b[0;34m(\u001b[0m \u001b[0mwo\u001b[0m\u001b[0;34m.\u001b[0m\u001b[0mdot\u001b[0m\u001b[0;34m(\u001b[0m\u001b[0mho\u001b[0m\u001b[0;34m)\u001b[0m \u001b[0;34m,\u001b[0m \u001b[0msize\u001b[0m\u001b[0;34m=\u001b[0m\u001b[0;36m128\u001b[0m\u001b[0;34m)\u001b[0m\u001b[0;34m\u001b[0m\u001b[0m\n\u001b[0m",
      "\u001b[0;32m<ipython-input-2-3925d1625964>\u001b[0m in \u001b[0;36mdisplay_matrix\u001b[0;34m(X, row, size)\u001b[0m\n\u001b[1;32m      4\u001b[0m         \u001b[0mrow\u001b[0m \u001b[0;34m=\u001b[0m \u001b[0msqrt\u001b[0m\u001b[0;34m(\u001b[0m\u001b[0mlen\u001b[0m\u001b[0;34m(\u001b[0m\u001b[0mX\u001b[0m\u001b[0;34m)\u001b[0m\u001b[0;34m)\u001b[0m\u001b[0;34m\u001b[0m\u001b[0m\n\u001b[1;32m      5\u001b[0m     \u001b[0;32mfor\u001b[0m \u001b[0mx\u001b[0m \u001b[0;32min\u001b[0m \u001b[0mX\u001b[0m\u001b[0;34m:\u001b[0m\u001b[0;34m\u001b[0m\u001b[0m\n\u001b[0;32m----> 6\u001b[0;31m         \u001b[0marr\u001b[0m \u001b[0;34m=\u001b[0m \u001b[0mx\u001b[0m\u001b[0;34m.\u001b[0m\u001b[0mreshape\u001b[0m\u001b[0;34m(\u001b[0m\u001b[0msize\u001b[0m\u001b[0;34m,\u001b[0m\u001b[0msize\u001b[0m\u001b[0;34m)\u001b[0m\u001b[0;34m\u001b[0m\u001b[0m\n\u001b[0m\u001b[1;32m      7\u001b[0m         \u001b[0;32mif\u001b[0m \u001b[0mX_data\u001b[0m\u001b[0;34m.\u001b[0m\u001b[0many\u001b[0m\u001b[0;34m(\u001b[0m\u001b[0;34m)\u001b[0m \u001b[0;34m:\u001b[0m\u001b[0;34m\u001b[0m\u001b[0m\n\u001b[1;32m      8\u001b[0m             \u001b[0mX_data\u001b[0m \u001b[0;34m=\u001b[0m \u001b[0mnp\u001b[0m\u001b[0;34m.\u001b[0m\u001b[0mconcatenate\u001b[0m\u001b[0;34m(\u001b[0m \u001b[0;34m(\u001b[0m\u001b[0mX_data\u001b[0m\u001b[0;34m,\u001b[0m \u001b[0marr\u001b[0m\u001b[0;34m)\u001b[0m\u001b[0;34m,\u001b[0m \u001b[0maxis\u001b[0m\u001b[0;34m=\u001b[0m\u001b[0;36m1\u001b[0m  \u001b[0;34m)\u001b[0m\u001b[0;34m\u001b[0m\u001b[0m\n",
      "\u001b[0;31mValueError\u001b[0m: cannot reshape array of size 784 into shape (128,128)"
     ]
    }
   ],
   "source": [
    "display_matrix( wo.dot(ho) , size=128)"
   ]
  },
  {
   "cell_type": "code",
   "execution_count": 30,
   "metadata": {},
   "outputs": [
    {
     "data": {
      "image/png": "[encoded data removed]",
      "text/plain": [
       "<matplotlib.figure.Figure at 0x7fa900ebb048>"
      ]
     },
     "metadata": {},
     "output_type": "display_data"
    }
   ],
   "source": [
    "display_matrix(wo.dot(ho))"
   ]
  },
  {
   "cell_type": "code",
   "execution_count": 31,
   "metadata": {},
   "outputs": [
    {
     "ename": "NameError",
     "evalue": "name 'faces' is not defined",
     "output_type": "error",
     "traceback": [
      "\u001b[0;31m---------------------------------------------------------------------------\u001b[0m",
      "\u001b[0;31mNameError\u001b[0m                                 Traceback (most recent call last)",
      "\u001b[0;32m<ipython-input-31-621abc851d89>\u001b[0m in \u001b[0;36m<module>\u001b[0;34m()\u001b[0m\n\u001b[1;32m      2\u001b[0m \u001b[0merr\u001b[0m\u001b[0;34m=\u001b[0m\u001b[0;34m[\u001b[0m \u001b[0;34m[\u001b[0m\u001b[0;34m]\u001b[0m\u001b[0;34m,\u001b[0m \u001b[0;34m[\u001b[0m\u001b[0;34m]\u001b[0m\u001b[0;34m,\u001b[0m \u001b[0;34m[\u001b[0m\u001b[0;34m]\u001b[0m \u001b[0;34m]\u001b[0m\u001b[0;34m\u001b[0m\u001b[0m\n\u001b[1;32m      3\u001b[0m \u001b[0md\u001b[0m \u001b[0;34m=\u001b[0m \u001b[0;36m0\u001b[0m\u001b[0;34m\u001b[0m\u001b[0m\n\u001b[0;32m----> 4\u001b[0;31m \u001b[0mv\u001b[0m \u001b[0;34m=\u001b[0m \u001b[0mfaces\u001b[0m\u001b[0;34m\u001b[0m\u001b[0m\n\u001b[0m\u001b[1;32m      5\u001b[0m \u001b[0;32mfor\u001b[0m \u001b[0mx\u001b[0m \u001b[0;32min\u001b[0m \u001b[0;34m(\u001b[0m\u001b[0;36m5\u001b[0m\u001b[0;34m,\u001b[0m \u001b[0;36m8\u001b[0m\u001b[0;34m,\u001b[0m \u001b[0;36m12\u001b[0m\u001b[0;34m)\u001b[0m\u001b[0;34m:\u001b[0m\u001b[0;34m\u001b[0m\u001b[0m\n\u001b[1;32m      6\u001b[0m     \u001b[0mi\u001b[0m \u001b[0;34m=\u001b[0m \u001b[0;36m50\u001b[0m\u001b[0;34m\u001b[0m\u001b[0m\n",
      "\u001b[0;31mNameError\u001b[0m: name 'faces' is not defined"
     ]
    }
   ],
   "source": [
    "it=[ [], [], [] ]\n",
    "err=[ [], [], [] ]\n",
    "d = 0\n",
    "v = faces\n",
    "for x in (5, 8, 12):\n",
    "    i = 50 \n",
    "    for y in range(0,10):\n",
    "        it[d].append(i)\n",
    "        _num_bases = x\n",
    "        (_data_dimension, _num_samples) = v.shape\n",
    "        W = np.random.random((_data_dimension, _num_bases))\n",
    "        H = np.random.random((_num_bases, _num_samples))\n",
    "\n",
    "        (wo,ho) = nmf(v, W, H, 0.0001, i)\n",
    "        err[d].append( frobenius(v,wo.dot(ho)) )\n",
    "        i = i + 50\n",
    "    d = d +1"
   ]
  },
  {
   "cell_type": "code",
   "execution_count": 32,
   "metadata": {},
   "outputs": [
    {
     "data": {
      "image/png": "[encoded data removed]",
      "text/plain": [
       "<matplotlib.figure.Figure at 0x7fa90979bda0>"
      ]
     },
     "metadata": {},
     "output_type": "display_data"
    },
    {
     "data": {
      "text/plain": [
       "<matplotlib.figure.Figure at 0x7fa9096eed30>"
      ]
     },
     "metadata": {},
     "output_type": "display_data"
    }
   ],
   "source": [
    "plt.plot(it[0], err[0], label='k = 5')\n",
    "plt.plot(it[1], err[1], label='k = 8')\n",
    "plt.plot(it[2], err[2], label='k = 12')\n",
    "plt.legend(loc='upper right')\n",
    "plt.xlabel('iterations')\n",
    "plt.ylabel('error')\n",
    "plt.figure(figsize=(50,50))\n",
    "plt.show()"
   ]
  },
  {
   "cell_type": "code",
   "execution_count": 33,
   "metadata": {
    "collapsed": true
   },
   "outputs": [],
   "source": [
    "si = np.copy(it)\n",
    "serr = np.copy(err)"
   ]
  },
  {
   "cell_type": "markdown",
   "metadata": {},
   "source": [
    "# NMF WITH SVD INITIALISATION"
   ]
  },
  {
   "cell_type": "code",
   "execution_count": 34,
   "metadata": {
    "collapsed": true
   },
   "outputs": [],
   "source": [
    "from sklearn.decomposition import NMF"
   ]
  },
  {
   "cell_type": "code",
   "execution_count": 35,
   "metadata": {
    "collapsed": true
   },
   "outputs": [],
   "source": [
    "model = NMF(n_components=2, init='nndsvda')\n",
    "W = model.fit_transform(X)\n",
    "H = model.components_"
   ]
  },
  {
   "cell_type": "code",
   "execution_count": 36,
   "metadata": {
    "collapsed": true
   },
   "outputs": [],
   "source": [
    "it=[ [], [], [] ]\n",
    "err=[ [], [], [] ]\n",
    "d = 0\n",
    "for x in (5, 8, 12):\n",
    "    i = 50 \n",
    "    for y in range(0,10):\n",
    "        model = NMF(n_components=2, init='nndsvda', max_iter=i)\n",
    "        W = model.fit_transform(X)\n",
    "        H = model.components_\n",
    "        i = i + 50\n",
    "    d = d +1"
   ]
  },
  {
   "cell_type": "code",
   "execution_count": null,
   "metadata": {
    "collapsed": true
   },
   "outputs": [],
   "source": [
    "BMF / Nimfa / NMF / ArtIMage sur GIthub / SPherical K means Centroide / ICA / PCA / CA / TriFactorisation\n",
    "Noir et BLanc / binarisation / couleur algébre combinaison linéaire / NMI / R to Python importation / SParsité NMF / "
   ]
  }
 ],
 "metadata": {
  "kernelspec": {
   "display_name": "Python 2",
   "language": "python",
   "name": "python2"
  },
  "language_info": {
   "codemirror_mode": {
    "name": "ipython",
    "version": 2
   },
   "file_extension": ".py",
   "mimetype": "text/x-python",
   "name": "python",
   "nbconvert_exporter": "python",
   "pygments_lexer": "ipython2",
   "version": "2.7.13"
  }
 },
 "nbformat": 4,
 "nbformat_minor": 2
}
