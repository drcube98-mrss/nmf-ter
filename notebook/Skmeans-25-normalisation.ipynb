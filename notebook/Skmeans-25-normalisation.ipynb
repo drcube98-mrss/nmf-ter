{
 "cells": [
  {
   "cell_type": "code",
   "execution_count": 1,
   "metadata": {},
   "outputs": [],
   "source": [
    "import nimfa\n",
    "import os, sys\n",
    "import scipy\n",
    "from math import sqrt\n",
    "from sklearn.cluster import KMeans\n",
    "from sklearn import metrics\n",
    "from scipy.spatial.distance import cdist\n",
    "import numpy as np\n",
    "import matplotlib.pyplot as plt\n",
    "from spherecluster import SphericalKMeans\n",
    "from sklearn.utils import shuffle\n",
    "from sklearn import preprocessing\n",
    "import pandas as pd\n",
    "from sklearn.metrics import silhouette_score, confusion_matrix,adjusted_rand_score\n",
    "from sklearn.preprocessing import scale\n",
    "import nimfa"
   ]
  },
  {
   "cell_type": "code",
   "execution_count": 2,
   "metadata": {},
   "outputs": [],
   "source": [
    "datas = np.loadtxt(open(\"matrice-greyscale-25.csv\", \"rb\"), delimiter=\",\")\n",
    "labels = np.loadtxt(open(\"labels-25.csv\", \"rb\"), delimiter=\",\")\n",
    "datas = scale(datas).T"
   ]
  },
  {
   "cell_type": "code",
   "execution_count": 3,
   "metadata": {},
   "outputs": [],
   "source": [
    "def getGapStat(data, k, origDisp, nrefs=3):\n",
    "    refDisps = np.zeros(nrefs)\n",
    "    for i in range(nrefs):  \n",
    "        # Create new random reference set\n",
    "        randomReference = np.random.random_sample(size=data.shape)\n",
    "\n",
    "        # Fit to it\n",
    "        km = KMeans(k)\n",
    "        km.fit(randomReference)\n",
    "\n",
    "        refDisp = km.inertia_\n",
    "        refDisps[i] = refDisp\n",
    "    gap = np.log(np.mean(refDisps)) - np.log(origDisp)\n",
    "    return gap"
   ]
  },
  {
   "cell_type": "code",
   "execution_count": 4,
   "metadata": {},
   "outputs": [],
   "source": [
    "elbow = []\n",
    "elbow_score = []\n",
    "elbow_inertia = []\n",
    "gaps = []\n",
    "silhouettes = []"
   ]
  },
  {
   "cell_type": "code",
   "execution_count": null,
   "metadata": {},
   "outputs": [
    {
     "name": "stdout",
     "output_type": "stream",
     "text": [
      "run : \n",
      " 2  3  4  5  6  7  8  9  10  11  12  13  14  15  16  17  18  19  20  21  22  23  24  25  26  27  28  29  30  31  32  33  34  35  36  37  38  39  40  41  42  43  44  45  46  47  48  49  50  51  52  53  54  55  56  57  58  59  60  61  62  63  64  65  66  67  68  69  70  71  72  73  74  75  76  77  78  79  80  81  82  83  84  85  86  87  88  89  90  91  92  93  94  95  96  97  98  99  100  101 "
     ]
    }
   ],
   "source": [
    "K = range(2,552,1)\n",
    "print(\"run : \")\n",
    "for k in K:\n",
    "    sys.stdout.write(\" \"+str(k)+\" \")\n",
    "    kmeanModel = SphericalKMeans(n_clusters=k).fit(datas)\n",
    "    \n",
    "    score = kmeanModel.score(datas)\n",
    "    \n",
    "    elbow_score.append(score)\n",
    "    elbow_inertia.append(kmeanModel.inertia_)\n",
    "    elbow.append(sum(np.min(cdist(datas, kmeanModel.cluster_centers_, 'euclidean'), axis=1)) / datas.shape[0])\n",
    "\n",
    "    gap = getGapStat(datas, k, kmeanModel.inertia_)\n",
    "    gaps.append(gap)\n",
    "    \n",
    "    cluster_labels = kmeanModel.predict(datas)\n",
    "    silhouette_avg = silhouette_score(datas, cluster_labels)\n",
    "    silhouettes.append(silhouette_avg)\n"
   ]
  },
  {
   "cell_type": "code",
   "execution_count": null,
   "metadata": {},
   "outputs": [],
   "source": []
  }
 ],
 "metadata": {
  "kernelspec": {
   "display_name": "Python 2",
   "language": "python",
   "name": "python2"
  },
  "language_info": {
   "codemirror_mode": {
    "name": "ipython",
    "version": 2
   },
   "file_extension": ".py",
   "mimetype": "text/x-python",
   "name": "python",
   "nbconvert_exporter": "python",
   "pygments_lexer": "ipython2",
   "version": "2.7.12"
  }
 },
 "nbformat": 4,
 "nbformat_minor": 2
}
