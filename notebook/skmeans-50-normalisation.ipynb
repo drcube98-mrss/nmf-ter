{
 "cells": [
  {
   "cell_type": "code",
   "execution_count": 1,
   "metadata": {},
   "outputs": [],
   "source": [
    "import nimfa\n",
    "import os, sys\n",
    "import scipy\n",
    "from math import sqrt\n",
    "from sklearn.cluster import KMeans\n",
    "from sklearn import metrics\n",
    "from scipy.spatial.distance import cdist\n",
    "import numpy as np\n",
    "import matplotlib.pyplot as plt\n",
    "from spherecluster import SphericalKMeans\n",
    "from sklearn.utils import shuffle\n",
    "from sklearn import preprocessing\n",
    "import pandas as pd\n",
    "from sklearn.metrics import silhouette_score, confusion_matrix,adjusted_rand_score\n",
    "from sklearn.preprocessing import scale\n",
    "import nimfa"
   ]
  },
  {
   "cell_type": "code",
   "execution_count": 2,
   "metadata": {},
   "outputs": [],
   "source": [
    "datas = np.loadtxt(open(\"matrice-greyscale-50.csv\", \"rb\"), delimiter=\",\")\n",
    "labels = np.loadtxt(open(\"labels-50.csv\", \"rb\"), delimiter=\",\")\n",
    "datas = scale(datas).T"
   ]
  },
  {
   "cell_type": "code",
   "execution_count": 6,
   "metadata": {},
   "outputs": [],
   "source": [
    "elbow = []\n",
    "elbow_score = []\n",
    "elbow_inertia = []\n",
    "gaps = []\n",
    "silhouettes = []"
   ]
  },
  {
   "cell_type": "code",
   "execution_count": null,
   "metadata": {},
   "outputs": [
    {
     "name": "stdout",
     "output_type": "stream",
     "text": [
      "run : \n",
      " 2  3  4  5  6  7  8  9  10  11  12  13  14  15  16  17 "
     ]
    }
   ],
   "source": [
    "K = range(2,552,1)\n",
    "print(\"run : \")\n",
    "for k in K:\n",
    "    sys.stdout.write(\" \"+str(k)+\" \")\n",
    "    kmeanModel = SphericalKMeans(n_clusters=k).fit(datas)\n",
    "    \n",
    "    score = kmeanModel.score(datas)\n",
    "    \n",
    "    elbow_score.append(score)\n",
    "    elbow_inertia.append(kmeanModel.inertia_)\n",
    "#     elbow.append(sum(np.min(cdist(datas, kmeanModel.cluster_centers_, 'euclidean'), axis=1)) / datas.shape[0])\n",
    "\n",
    "#     gap = getGapStat(datas, k, kmeanModel.inertia_)\n",
    "#     gaps.append(gap)\n",
    "    \n",
    "    cluster_labels = kmeanModel.predict(datas)\n",
    "    silhouette_avg = silhouette_score(datas, cluster_labels)\n",
    "    silhouettes.append(silhouette_avg)\n"
   ]
  },
  {
   "cell_type": "code",
   "execution_count": null,
   "metadata": {},
   "outputs": [],
   "source": []
  }
 ],
 "metadata": {
  "kernelspec": {
   "display_name": "Python 2",
   "language": "python",
   "name": "python2"
  },
  "language_info": {
   "codemirror_mode": {
    "name": "ipython",
    "version": 2
   },
   "file_extension": ".py",
   "mimetype": "text/x-python",
   "name": "python",
   "nbconvert_exporter": "python",
   "pygments_lexer": "ipython2",
   "version": "2.7.12"
  }
 },
 "nbformat": 4,
 "nbformat_minor": 2
}
