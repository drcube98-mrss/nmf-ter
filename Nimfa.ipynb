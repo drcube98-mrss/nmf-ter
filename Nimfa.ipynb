{
 "cells": [
  {
   "cell_type": "code",
   "execution_count": null,
   "metadata": {},
   "outputs": [],
   "source": [
    "import nimfa\n",
    "import os\n",
    "import scipy\n",
    "from math import sqrt\n",
    "from sklearn.cluster import KMeans\n",
    "from sklearn import metrics\n",
    "from scipy.spatial.distance import cdist\n",
    "import numpy as np\n",
    "from PIL import Image\n",
    "import matplotlib.pyplot as plt\n",
    "from spherecluster import SphericalKMeans\n",
    "from sklearn.utils import shuffle\n",
    "from sklearn import preprocessing\n",
    "import pandas as pd\n",
    "from sklearn.metrics import silhouette_score, confusion_matrix,adjusted_rand_score\n",
    "from sklearn.preprocessing import scale\n",
    "import nimfa"
   ]
  },
  {
   "cell_type": "code",
   "execution_count": 195,
   "metadata": {},
   "outputs": [],
   "source": [
    "def display_matrix(X, row=None, size=16):\n",
    "    X_data = np.array([])\n",
    "    if row is None:\n",
    "        row = sqrt(len(X.T))\n",
    "    for x in X:\n",
    "        arr = x.reshape(size,size)\n",
    "        if X_data.any() :\n",
    "            X_data = np.concatenate( (X_data, arr), axis=0 )\n",
    "        else:\n",
    "            X_data = arr\n",
    "    n = np.array_split(X_data, row, axis=0)\n",
    "    X_data = np.concatenate(n, axis=1)\n",
    "    plt.imshow(X_data, interpolation=\"nearest\", cmap=plt.get_cmap('gray'))\n",
    "    plt.axis(\"off\")\n",
    "    plt.show()"
   ]
  },
  {
   "cell_type": "code",
   "execution_count": null,
   "metadata": {},
   "outputs": [],
   "source": [
    "datas = (np.loadtxt(open(\"matrice-greyscale-16.csv\", \"rb\"), delimiter=\",\")).T #Transpose la matrice\n",
    "labels = np.loadtxt(open(\"labels-16.csv\", \"rb\"), delimiter=\",\")\n",
    "datas.shape"
   ]
  },
  {
   "cell_type": "code",
   "execution_count": null,
   "metadata": {},
   "outputs": [],
   "source": [
    "skm = SphericalKMeans(n_clusters=70)\n",
    "skm.fit(datas)\n",
    "_data_dimension, _num_bases = datas.shape"
   ]
  },
  {
   "cell_type": "code",
   "execution_count": null,
   "metadata": {},
   "outputs": [],
   "source": [
    "#On lance une nmf avec un rank comme la silouette l'indique"
   ]
  },
  {
   "cell_type": "code",
   "execution_count": null,
   "metadata": {},
   "outputs": [],
   "source": [
    "W = skm.cluster_centers_\n",
    "H = np.random.random((_data_dimension,70))\n",
    "model = nimfa.Nmf(datas,rank=70, seed=None, max_iter=2000,min_residuals=0.1,H=W, W=H)\n",
    "nmf = model()"
   ]
  },
  {
   "cell_type": "code",
   "execution_count": null,
   "metadata": {},
   "outputs": [],
   "source": [
    "np.shape(nmf.summary()[\"predict_features\"][1])"
   ]
  },
  {
   "cell_type": "code",
   "execution_count": null,
   "metadata": {},
   "outputs": [],
   "source": [
    "np.shape(nmf.summary()[\"predict_features\"][0])"
   ]
  },
  {
   "cell_type": "code",
   "execution_count": null,
   "metadata": {},
   "outputs": [],
   "source": [
    "nmf.summary()"
   ]
  },
  {
   "cell_type": "code",
   "execution_count": null,
   "metadata": {},
   "outputs": [],
   "source": [
    "a = nmf.fitted()"
   ]
  },
  {
   "cell_type": "code",
   "execution_count": 177,
   "metadata": {},
   "outputs": [
    {
     "data": {
      "text/plain": [
       "(256, 4778)"
      ]
     },
     "execution_count": 177,
     "metadata": {},
     "output_type": "execute_result"
    }
   ],
   "source": [
    "a.shape"
   ]
  },
  {
   "cell_type": "code",
   "execution_count": null,
   "metadata": {},
   "outputs": [],
   "source": [
    "pillow_image = Image.fromarray(datas)"
   ]
  },
  {
   "cell_type": "code",
   "execution_count": null,
   "metadata": {},
   "outputs": [],
   "source": [
    "new_p = Image.fromarray(a)\n",
    "if new_p.mode != 'RGB':\n",
    "    new_p = new_p.convert('RGB')"
   ]
  },
  {
   "cell_type": "code",
   "execution_count": 187,
   "metadata": {},
   "outputs": [
    {
     "data": {
      "text/plain": [
       "4778"
      ]
     },
     "execution_count": 187,
     "metadata": {},
     "output_type": "execute_result"
    }
   ],
   "source": [
    "len(datas.T)"
   ]
  },
  {
   "cell_type": "code",
   "execution_count": null,
   "metadata": {},
   "outputs": [],
   "source": [
    "display_matrix(datas.T)"
   ]
  }
 ],
 "metadata": {
  "kernelspec": {
   "display_name": "Python 2",
   "language": "python",
   "name": "python2"
  },
  "language_info": {
   "codemirror_mode": {
    "name": "ipython",
    "version": 2
   },
   "file_extension": ".py",
   "mimetype": "text/x-python",
   "name": "python",
   "nbconvert_exporter": "python",
   "pygments_lexer": "ipython2",
   "version": "2.7.13"
  }
 },
 "nbformat": 4,
 "nbformat_minor": 2
}
